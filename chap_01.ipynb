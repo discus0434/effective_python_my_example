{
 "cells": [
  {
   "cell_type": "markdown",
   "metadata": {},
   "source": [
    "# 第1章 Pythonic思考"
   ]
  },
  {
   "cell_type": "code",
   "execution_count": 79,
   "metadata": {},
   "outputs": [],
   "source": [
    "import random\n",
    "import itertools\n",
    "\n",
    "import numpy as np\n",
    "import pandas as pd"
   ]
  },
  {
   "cell_type": "markdown",
   "metadata": {},
   "source": [
    "## `欠損値 or 0`で欠損値をゼロ埋め"
   ]
  },
  {
   "cell_type": "code",
   "execution_count": 9,
   "metadata": {},
   "outputs": [
    {
     "name": "stdout",
     "output_type": "stream",
     "text": [
      "[0, 4, 5, 3, 0, 2, 0, 5]\n"
     ]
    }
   ],
   "source": [
    "li = [None, 4, 5, 3, None, 2, \"\", 5]\n",
    "\n",
    "new_li = []\n",
    "for elm in li:\n",
    "    new_li.append(elm or 0) # 欠損値や空文字列はFalseと評価されるので、or後の0に置き換えられる\n",
    "    \n",
    "print(new_li)\n",
    "# [0, 4, 5, 3, 0, 2, 0, 5]"
   ]
  },
  {
   "cell_type": "markdown",
   "metadata": {},
   "source": [
    "## 最大長のイテレータに合わせて並列処理(`zip`)する`zip_longest`"
   ]
  },
  {
   "cell_type": "code",
   "execution_count": 32,
   "metadata": {},
   "outputs": [],
   "source": [
    "a = [0, 1, 2, 3, 4]\n",
    "b = [6, 7, 8, 9, 10]"
   ]
  },
  {
   "cell_type": "markdown",
   "metadata": {},
   "source": [
    "組み込み関数の`zip`は、複数のイテレータ(リスト、タプルなど)を並列で処理します。"
   ]
  },
  {
   "cell_type": "code",
   "execution_count": 33,
   "metadata": {},
   "outputs": [
    {
     "name": "stdout",
     "output_type": "stream",
     "text": [
      "a = 0, b = 6\n",
      "a = 1, b = 7\n",
      "a = 2, b = 8\n",
      "a = 3, b = 9\n",
      "a = 4, b = 10\n"
     ]
    }
   ],
   "source": [
    "for i, j in zip(a, b):\n",
    "    print(f\"a = {i}, b = {j}\")\n",
    "    \n",
    "# a = 0, b = 6\n",
    "# a = 1, b = 7\n",
    "# a = 2, b = 8\n",
    "# a = 3, b = 9\n",
    "# a = 4, b = 10"
   ]
  },
  {
   "cell_type": "markdown",
   "metadata": {},
   "source": [
    "イテレータの長さが異なる場合、`zip`は最短のイテレータに合わせて処理を終了します。"
   ]
  },
  {
   "cell_type": "code",
   "execution_count": 34,
   "metadata": {},
   "outputs": [
    {
     "name": "stdout",
     "output_type": "stream",
     "text": [
      "a = 0, b = 6, c = 2\n",
      "a = 1, b = 7, c = 3\n",
      "a = 2, b = 8, c = 4\n"
     ]
    }
   ],
   "source": [
    "c = [2, 3, 4]\n",
    "\n",
    "for i, j, k in zip(a, b, c): # a, b は長さ5のリスト, cは長さ3のリスト\n",
    "    print(f\"a = {i}, b = {j}, c = {k}\")\n",
    "\n",
    "# a = 0, b = 6, c = 2\n",
    "# a = 1, b = 7, c = 3\n",
    "# a = 2, b = 8, c = 4"
   ]
  },
  {
   "cell_type": "markdown",
   "metadata": {},
   "source": [
    "一方で、組み込みモジュールの`itertools.zip_longest`関数は最大長のイテレータに合わせて処理します。"
   ]
  },
  {
   "cell_type": "code",
   "execution_count": 35,
   "metadata": {},
   "outputs": [
    {
     "name": "stdout",
     "output_type": "stream",
     "text": [
      "a = 0, b = 6, c = 2\n",
      "a = 1, b = 7, c = 3\n",
      "a = 2, b = 8, c = 4\n",
      "a = 3, b = 9, c = None\n",
      "a = 4, b = 10, c = None\n"
     ]
    }
   ],
   "source": [
    "import itertools\n",
    "for i, j, k in itertools.zip_longest(a, b, c):\n",
    "    print(f\"a = {i}, b = {j}, c = {k}\")\n",
    "\n",
    "# a = 0, b = 6, c = 2\n",
    "# a = 1, b = 7, c = 3\n",
    "# a = 2, b = 8, c = 4\n",
    "# a = 3, b = 9, c = None\n",
    "# a = 4, b = 10, c = None"
   ]
  },
  {
   "cell_type": "markdown",
   "metadata": {},
   "source": [
    "欠損部分を任意の値で埋めたい場合は、`fillvalue`の引数に値を設定します。"
   ]
  },
  {
   "cell_type": "code",
   "execution_count": 38,
   "metadata": {},
   "outputs": [
    {
     "name": "stdout",
     "output_type": "stream",
     "text": [
      "a = 0, b = 6, c = 2\n",
      "a = 1, b = 7, c = 3\n",
      "a = 2, b = 8, c = 4\n",
      "a = 3, b = 9, c = 0\n",
      "a = 4, b = 10, c = 0\n"
     ]
    }
   ],
   "source": [
    "for i, j, k in itertools.zip_longest(a, b, c, fillvalue=0):\n",
    "    print(f\"a = {i}, b = {j}, c = {k}\")\n",
    "\n",
    "# a = 0, b = 6, c = 2\n",
    "# a = 1, b = 7, c = 3\n",
    "# a = 2, b = 8, c = 4\n",
    "# a = 3, b = 9, c = 0\n",
    "# a = 4, b = 10, c = 0"
   ]
  },
  {
   "cell_type": "markdown",
   "metadata": {},
   "source": [
    "## 代入式(`A := B`)でコードの冗長性を取り除く"
   ]
  },
  {
   "cell_type": "markdown",
   "metadata": {},
   "source": [
    "walrus演算子(`:=`)を使うと、変数名への値の代入と評価を一度に行うことができます。\n",
    "\n",
    "以下の辞書を使用して例示します。"
   ]
  },
  {
   "cell_type": "code",
   "execution_count": 82,
   "metadata": {},
   "outputs": [],
   "source": [
    "d = {\n",
    "    \"a\": random.choice([-1, 1]),\n",
    "    \"b\": random.choice([-2, 2]),\n",
    "    \"c\": None,\n",
    "}"
   ]
  },
  {
   "cell_type": "markdown",
   "metadata": {},
   "source": [
    "`a+b`が正の場合は`c`を`1`に、負の場合は`c`を`a+b`の値に書き換える処理を実装しましょう。"
   ]
  },
  {
   "cell_type": "code",
   "execution_count": 92,
   "metadata": {},
   "outputs": [
    {
     "name": "stdout",
     "output_type": "stream",
     "text": [
      "{'a': 1, 'b': -2, 'c': -1}\n"
     ]
    }
   ],
   "source": [
    "a_add_b = d[\"a\"] + d[\"b\"]\n",
    "if a_add_b > 0:\n",
    "    d[\"c\"] = 1\n",
    "else:\n",
    "    d[\"c\"] = a_add_b\n",
    "\n",
    "print(d)  # {'a': 1, 'b': -2, 'c': -1}"
   ]
  },
  {
   "cell_type": "markdown",
   "metadata": {},
   "source": [
    "ここにwalrus演算子を使用して書き換えます。"
   ]
  },
  {
   "cell_type": "code",
   "execution_count": 91,
   "metadata": {},
   "outputs": [
    {
     "name": "stdout",
     "output_type": "stream",
     "text": [
      "{'a': 1, 'b': -2, 'c': -1}\n"
     ]
    }
   ],
   "source": [
    "if (a_add_b := d[\"a\"] + d[\"b\"]) > 0:\n",
    "    d[\"c\"] = 1\n",
    "else:\n",
    "    d[\"c\"] = a_add_b\n",
    "\n",
    "print(d)  # {'a': 1, 'b': -2, 'c': -1}"
   ]
  },
  {
   "cell_type": "markdown",
   "metadata": {},
   "source": [
    "わずかな違いですが、確実にコードの冗長性を減らすことができます。"
   ]
  }
 ],
 "metadata": {
  "interpreter": {
   "hash": "9dcdf8dee70b2da6875166a9d2c4ec1b7454bb6764c52c9e2ee1867548f7c3ef"
  },
  "kernelspec": {
   "display_name": "Python 3.8.13 ('web')",
   "language": "python",
   "name": "python3"
  },
  "language_info": {
   "codemirror_mode": {
    "name": "ipython",
    "version": 3
   },
   "file_extension": ".py",
   "mimetype": "text/x-python",
   "name": "python",
   "nbconvert_exporter": "python",
   "pygments_lexer": "ipython3",
   "version": "3.8.13"
  },
  "orig_nbformat": 4
 },
 "nbformat": 4,
 "nbformat_minor": 2
}
