{
 "cells": [
  {
   "cell_type": "markdown",
   "metadata": {},
   "source": [
    "# 第2章 リストと辞書"
   ]
  },
  {
   "cell_type": "code",
   "execution_count": 14,
   "metadata": {},
   "outputs": [],
   "source": [
    "from __future__ import annotations\n",
    "import numpy as np"
   ]
  },
  {
   "cell_type": "markdown",
   "metadata": {},
   "source": [
    "## シーケンスのスライスは最大長を超えて指定できる"
   ]
  },
  {
   "cell_type": "code",
   "execution_count": 7,
   "metadata": {},
   "outputs": [],
   "source": [
    "li = [0, 1, 2, 3, 4, 5, 6, 7, 8, 9]"
   ]
  },
  {
   "cell_type": "markdown",
   "metadata": {},
   "source": [
    "当然ですが、シーケンスの最大長を超えてインデックスを指定するとエラー。"
   ]
  },
  {
   "cell_type": "code",
   "execution_count": 10,
   "metadata": {},
   "outputs": [
    {
     "name": "stdout",
     "output_type": "stream",
     "text": [
      "IndexError!\n"
     ]
    }
   ],
   "source": [
    "try:\n",
    "    li[30]\n",
    "except IndexError:\n",
    "    print(\"IndexError!\")\n",
    "    \n",
    "# IndexError!"
   ]
  },
  {
   "cell_type": "markdown",
   "metadata": {},
   "source": [
    "しかし、シーケンスの最大長を超えたスライスの指定は可能です。"
   ]
  },
  {
   "cell_type": "code",
   "execution_count": 12,
   "metadata": {},
   "outputs": [
    {
     "name": "stdout",
     "output_type": "stream",
     "text": [
      "Slicing works!\n"
     ]
    }
   ],
   "source": [
    "try:\n",
    "    li[:30]\n",
    "    print(\"Slicing works!\")\n",
    "except IndexError:\n",
    "    print(\"IndexError!\")\n",
    "    \n",
    "# Slicing works!"
   ]
  },
  {
   "cell_type": "markdown",
   "metadata": {},
   "source": [
    "（余談）これを利用して、シーケンスの最大長を合わせる処理を実装することができますね。"
   ]
  },
  {
   "cell_type": "code",
   "execution_count": 24,
   "metadata": {},
   "outputs": [],
   "source": [
    "def limit_list_len(li: list, max_len: int = 10):\n",
    "    \"\"\"リストの要素数を制限する関数\"\"\"\n",
    "    return li[:max_len]\n",
    "\n",
    "small_li = limit_list_len(list(range(5)))  # [0, 1, 2, 3, 4]\n",
    "large_li = limit_list_len(list(range(100)))  # [0, 1, 2, 3, 4, 5, 6, 7, 8, 9]"
   ]
  },
  {
   "cell_type": "markdown",
   "metadata": {},
   "source": [
    "## シーケンスのスライスを利用して、シーケンスの任意の要素間に値を挿入"
   ]
  },
  {
   "cell_type": "code",
   "execution_count": 45,
   "metadata": {},
   "outputs": [],
   "source": [
    "li = [0, 1, 2, 3]"
   ]
  },
  {
   "cell_type": "markdown",
   "metadata": {},
   "source": [
    "スライスの始端・両端に同じインデックスを指定して値を代入すると、シーケンスに値が挿入できます。"
   ]
  },
  {
   "cell_type": "code",
   "execution_count": 46,
   "metadata": {},
   "outputs": [
    {
     "name": "stdout",
     "output_type": "stream",
     "text": [
      "[0, 'hogehoge', 'ほげ', 1, 2, 3]\n"
     ]
    }
   ],
   "source": [
    "li[1:1] = [\"hogehoge\", \"ほげ\"]\n",
    "print(li) # [0, 'hogehoge', 'ほげ', 1, 2, 3]"
   ]
  },
  {
   "cell_type": "markdown",
   "metadata": {},
   "source": [
    "numpyでは同様のことを行うとエラー。"
   ]
  },
  {
   "cell_type": "code",
   "execution_count": 42,
   "metadata": {},
   "outputs": [
    {
     "name": "stdout",
     "output_type": "stream",
     "text": [
      "Numpy array can't do this!\n"
     ]
    }
   ],
   "source": [
    "arr = np.array([1, 2, 3])\n",
    "\n",
    "try:\n",
    "    arr[1:1] = [4, 5, 6]\n",
    "except ValueError:\n",
    "    print(\"Numpy array can't do this!\")\n",
    "    \n",
    "# Numpy array can't do this!"
   ]
  },
  {
   "cell_type": "markdown",
   "metadata": {},
   "source": [
    "しかし、要素数と要素の型を変更しない形での挿入(=上書き)は可能です。"
   ]
  },
  {
   "cell_type": "code",
   "execution_count": 44,
   "metadata": {},
   "outputs": [
    {
     "name": "stdout",
     "output_type": "stream",
     "text": [
      "[1 0 3]\n",
      "Numpy array CAN do this!\n"
     ]
    }
   ],
   "source": [
    "try:\n",
    "    arr[1:2] = 0\n",
    "    print(arr)\n",
    "    print(\"Numpy array CAN do this!\")\n",
    "except ValueError:\n",
    "    print(\"Numpy array can't do this!\")\n",
    "\n",
    "# [1 0 3]\n",
    "# Numpy array CAN do this!"
   ]
  },
  {
   "cell_type": "markdown",
   "metadata": {},
   "source": [
    "## catch-allアンパックでスライスを使わずにシーケンスをアンパックする"
   ]
  },
  {
   "cell_type": "markdown",
   "metadata": {},
   "source": [
    "アスタリスク付き引数(`*args`)を使うことで、スマートにシーケンスの要素のアンパックが行えます。\n",
    "\n",
    "以下のコードを例とします。"
   ]
  },
  {
   "cell_type": "code",
   "execution_count": 51,
   "metadata": {},
   "outputs": [],
   "source": [
    "descending_li = sorted([5, 434, 545, 21, 45, 65, 44, 23], reverse=True)"
   ]
  },
  {
   "cell_type": "code",
   "execution_count": 53,
   "metadata": {},
   "outputs": [
    {
     "data": {
      "text/plain": [
       "[545, 434, 65, 45, 44, 23, 21, 5]"
      ]
     },
     "execution_count": 53,
     "metadata": {},
     "output_type": "execute_result"
    }
   ],
   "source": [
    "descending_li"
   ]
  },
  {
   "cell_type": "markdown",
   "metadata": {},
   "source": [
    "**最も値の大きい要素**と**2番目に大きい要素**、**残りの要素**という風にシーケンスをアンパックする際、スライスを使用すると以下のようになります。"
   ]
  },
  {
   "cell_type": "code",
   "execution_count": 59,
   "metadata": {},
   "outputs": [
    {
     "name": "stdout",
     "output_type": "stream",
     "text": [
      "545 434 [65, 45, 44, 23, 21, 5]\n"
     ]
    }
   ],
   "source": [
    "biggest_elm, second_elm, others = descending_li[0], descending_li[1], descending_li[2:]\n",
    "\n",
    "print(biggest_elm, second_elm, others)  # 545 434 [65, 45, 44, 23, 21, 5]"
   ]
  },
  {
   "cell_type": "markdown",
   "metadata": {},
   "source": [
    "これをアスタリスク付き引数で書き直すと、とてもスマートになります。"
   ]
  },
  {
   "cell_type": "code",
   "execution_count": 60,
   "metadata": {},
   "outputs": [
    {
     "name": "stdout",
     "output_type": "stream",
     "text": [
      "545 434 [65, 45, 44, 23, 21, 5]\n"
     ]
    }
   ],
   "source": [
    "biggest_elm, second_elm, *others = descending_li\n",
    "\n",
    "print(biggest_elm, second_elm, others)  # 545 434 [65, 45, 44, 23, 21, 5]"
   ]
  },
  {
   "cell_type": "markdown",
   "metadata": {},
   "source": [
    "**最も値の大きい要素**と**最も小さい要素**、**残りの要素**というアンパックも可能です。"
   ]
  },
  {
   "cell_type": "code",
   "execution_count": 61,
   "metadata": {},
   "outputs": [
    {
     "name": "stdout",
     "output_type": "stream",
     "text": [
      "545 5 [434, 65, 45, 44, 23, 21]\n"
     ]
    }
   ],
   "source": [
    "biggest_elm, *others, smallest_elm = descending_li\n",
    "\n",
    "print(biggest_elm, smallest_elm, others)  # 545 5 [434, 65, 45, 44, 23, 21]"
   ]
  },
  {
   "cell_type": "markdown",
   "metadata": {},
   "source": [
    "## 辞書の欠損値処理に使用する`get`"
   ]
  },
  {
   "cell_type": "markdown",
   "metadata": {},
   "source": [
    "以下の辞書を例として、既にキーが登録されている場合は既存の値の数値部分に`+1`、登録されていない場合はキーを新しく登録する処理を実装します。"
   ]
  },
  {
   "cell_type": "code",
   "execution_count": 147,
   "metadata": {},
   "outputs": [],
   "source": [
    "d = {\"a\": 1, \"b\": 2, \"c\": 3}"
   ]
  },
  {
   "cell_type": "code",
   "execution_count": 148,
   "metadata": {},
   "outputs": [],
   "source": [
    "keys = [\"a\", \"c\", \"d\"]"
   ]
  },
  {
   "cell_type": "markdown",
   "metadata": {},
   "source": [
    "通常の`if-else`文を用いて実装する場合は以下のようになります。"
   ]
  },
  {
   "cell_type": "code",
   "execution_count": 142,
   "metadata": {},
   "outputs": [
    {
     "name": "stdout",
     "output_type": "stream",
     "text": [
      "{'a': 2, 'b': 2, 'c': 4, 'd': 1}\n"
     ]
    }
   ],
   "source": [
    "for key in keys:\n",
    "    if key not in d:\n",
    "        d[key] = 1\n",
    "    else:\n",
    "        d[key] += 1\n",
    "        \n",
    "print(d)  # {'a': 2, 'b': 2, 'c': 4, 'd': 1}"
   ]
  },
  {
   "cell_type": "markdown",
   "metadata": {},
   "source": [
    "これでも問題なく処理ができますが、`get`を用いて実装するとよりスマートに実装できます。"
   ]
  },
  {
   "cell_type": "code",
   "execution_count": 149,
   "metadata": {},
   "outputs": [
    {
     "name": "stdout",
     "output_type": "stream",
     "text": [
      "{'a': 2, 'b': 2, 'c': 4, 'd': 1}\n"
     ]
    }
   ],
   "source": [
    "for key in keys:\n",
    "    count = d.get(key, 0)\n",
    "    d[key] = count + 1\n",
    "\n",
    "print(d)  # {'a': 2, 'b': 2, 'c': 4, 'd': 1}"
   ]
  },
  {
   "cell_type": "markdown",
   "metadata": {},
   "source": [
    "## `defaultdict`で辞書の値の重複を処理する"
   ]
  },
  {
   "cell_type": "markdown",
   "metadata": {},
   "source": [
    "以下の辞書を例とします。"
   ]
  },
  {
   "cell_type": "code",
   "execution_count": 189,
   "metadata": {},
   "outputs": [],
   "source": [
    "d = {\"a\": {1, 2}, \"b\": {3, 4}, \"c\": {5, 6}}"
   ]
  },
  {
   "cell_type": "markdown",
   "metadata": {},
   "source": [
    "重複を排除して辞書のキー・値を追加するには、以下の方法があります。"
   ]
  },
  {
   "cell_type": "markdown",
   "metadata": {},
   "source": [
    "例： 辞書のキー`c`に値`6`を追加する"
   ]
  },
  {
   "cell_type": "code",
   "execution_count": 186,
   "metadata": {},
   "outputs": [
    {
     "name": "stdout",
     "output_type": "stream",
     "text": [
      "{'a': {1, 2}, 'b': {3, 4}, 'c': {5, 6}}\n"
     ]
    }
   ],
   "source": [
    "if (c := d.get(\"c\", set())) is None:\n",
    "    d[\"c\"] = c = set()\n",
    "c.add(6)\n",
    "\n",
    "print(d)  # {'a': {1, 2}, 'b': {3, 4}, 'c': {5, 6}}"
   ]
  },
  {
   "cell_type": "markdown",
   "metadata": {},
   "source": [
    "例2： 辞書のキー`e`に値`9`を追加する"
   ]
  },
  {
   "cell_type": "code",
   "execution_count": 187,
   "metadata": {},
   "outputs": [],
   "source": [
    "if (e := d.get(\"e\")) is None:\n",
    "    d[\"e\"] = e = set()\n",
    "e.add(9)\n",
    "\n",
    "print(d)  # {'a': {1, 2}, 'b': {3, 4}, 'c': {5, 6}, 'e': {9}}"
   ]
  },
  {
   "cell_type": "markdown",
   "metadata": {},
   "source": [
    "このやり方でも重複することなく値を挿入できますが、`defaultdict`を使うことでより簡単な書き方ができます。"
   ]
  },
  {
   "cell_type": "code",
   "execution_count": 194,
   "metadata": {},
   "outputs": [
    {
     "name": "stdout",
     "output_type": "stream",
     "text": [
      "defaultdict(<class 'set'>, {'c': {6}})\n"
     ]
    }
   ],
   "source": [
    "from collections import defaultdict\n",
    "\n",
    "d = defaultdict(set)\n",
    "d[\"c\"].add(6)\n",
    "d[\"c\"].add(6)  # 重複した値は追加されない\n",
    "\n",
    "print(d)  # defaultdict(<class 'set'>, {'c': {6}})"
   ]
  },
  {
   "cell_type": "code",
   "execution_count": null,
   "metadata": {},
   "outputs": [],
   "source": []
  }
 ],
 "metadata": {
  "interpreter": {
   "hash": "9dcdf8dee70b2da6875166a9d2c4ec1b7454bb6764c52c9e2ee1867548f7c3ef"
  },
  "kernelspec": {
   "display_name": "Python 3.8.13 ('web')",
   "language": "python",
   "name": "python3"
  },
  "language_info": {
   "codemirror_mode": {
    "name": "ipython",
    "version": 3
   },
   "file_extension": ".py",
   "mimetype": "text/x-python",
   "name": "python",
   "nbconvert_exporter": "python",
   "pygments_lexer": "ipython3",
   "version": "3.8.13"
  },
  "orig_nbformat": 4
 },
 "nbformat": 4,
 "nbformat_minor": 2
}
