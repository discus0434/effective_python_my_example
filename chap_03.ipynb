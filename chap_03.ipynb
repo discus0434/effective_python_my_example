{
 "cells": [
  {
   "cell_type": "markdown",
   "metadata": {},
   "source": [
    "# 第3章 関数"
   ]
  },
  {
   "cell_type": "code",
   "execution_count": 24,
   "metadata": {},
   "outputs": [],
   "source": [
    "from __future__ import annotations\n",
    "from typing import TypeVar, Any"
   ]
  },
  {
   "cell_type": "markdown",
   "metadata": {},
   "source": [
    "## 関数の戻り値が複数ある場合も、アスタリスク付き引数が使用できる"
   ]
  },
  {
   "cell_type": "markdown",
   "metadata": {},
   "source": [
    "以下の関数とリストを例として使用します。"
   ]
  },
  {
   "cell_type": "code",
   "execution_count": 2,
   "metadata": {},
   "outputs": [],
   "source": [
    "x = [.32, .24, .16, .08, .04, .02, .01]"
   ]
  },
  {
   "cell_type": "code",
   "execution_count": 3,
   "metadata": {},
   "outputs": [],
   "source": [
    "def calc_deviation(x: list[float]) -> list[float]:\n",
    "    \"\"\"シーケンス要素の偏差を計算し、偏差の大きさでソートした新しいリストを返す\"\"\"\n",
    "    \n",
    "    if not x:\n",
    "        raise ValueError(\"x must not be empty\")\n",
    "    \n",
    "    x_mean = sum(x) / len(x)\n",
    "    x_dev = [round(x_i - x_mean, ndigits=3) for x_i in x]    \n",
    "    \n",
    "    return sorted(x_dev)"
   ]
  },
  {
   "cell_type": "markdown",
   "metadata": {},
   "source": [
    "ここで、偏差が最も大きい値のみを個別に取り出し、残りのリストと区別したいとしましょう。\n",
    "\n",
    "**偏差が最も大きい値**と**それ以外のリスト**というアンパックを行うには、第2章で学んだアスタリスク付き引数を使用します。"
   ]
  },
  {
   "cell_type": "code",
   "execution_count": 4,
   "metadata": {},
   "outputs": [
    {
     "name": "stdout",
     "output_type": "stream",
     "text": [
      "-0.114 [-0.104, -0.084, -0.044, 0.036, 0.116, 0.196]\n"
     ]
    }
   ],
   "source": [
    "largest, *others = calc_deviation(x)\n",
    "\n",
    "print(largest, others)\n",
    "# -0.114 [-0.104, -0.084, -0.044, 0.036, 0.116, 0.196]"
   ]
  },
  {
   "cell_type": "markdown",
   "metadata": {},
   "source": [
    "## 関数の戻り値が多数ある場合には`namedtuple`を使用する"
   ]
  },
  {
   "cell_type": "markdown",
   "metadata": {},
   "source": [
    "それでは次に、上記の関数を改変して新たな例を作成します。\n",
    "\n",
    "上記の偏差値は1つのシーケンスを返す関数でしたが、それに加えて、\n",
    "\n",
    "シーケンス要素の偏差値が**最も大きい値と最も小さい値は個別の戻り値として返す**ほか、\n",
    "\n",
    "追加で**平均値や中央値も計算して戻り値として返す**ようにしてみましょう。"
   ]
  },
  {
   "cell_type": "markdown",
   "metadata": {},
   "source": [
    "標準ライブラリの`statistics`を使用します。"
   ]
  },
  {
   "cell_type": "code",
   "execution_count": 5,
   "metadata": {},
   "outputs": [],
   "source": [
    "import statistics"
   ]
  },
  {
   "cell_type": "code",
   "execution_count": 6,
   "metadata": {},
   "outputs": [],
   "source": [
    "def calc_statistics(x: list[float]) -> tuple[list[float], float, float, float, float]:\n",
    "    \"\"\"シーケンス要素の様々な統計値を計算\n",
    "    \n",
    "    Parameters\n",
    "    ----------\n",
    "    x : list[float]\n",
    "        統計値を計算したいシーケンス\n",
    "    \n",
    "    Returns\n",
    "    -------\n",
    "    list[float]\n",
    "        シーケンス各要素の偏差値のリスト\n",
    "    float\n",
    "        シーケンス各要素の偏差値のうち最大値\n",
    "    float\n",
    "        シーケンス各要素の偏差値のうち最小値\n",
    "    float\n",
    "        シーケンス各要素の平均値\n",
    "    float\n",
    "        シーケンス各要素の中央値\n",
    "    \"\"\"\n",
    "    \n",
    "    if not x:\n",
    "        raise ValueError(\"x must not be empty\")\n",
    "    \n",
    "    # 平均値\n",
    "    x_mean = statistics.mean(x)\n",
    "    \n",
    "    # 偏差値のリスト\n",
    "    x_dev = [round(x_i - x_mean, ndigits=3) for x_i in x]\n",
    "    \n",
    "    # 偏差値の最大値と最小値\n",
    "    x_dev_max = max(x_dev)\n",
    "    x_dev_min = min(x_dev)  \n",
    "    \n",
    "    # 中央値\n",
    "    x_median = statistics.median(x)\n",
    "    \n",
    "    return x_dev, x_dev_max, x_dev_min, x_mean, x_median"
   ]
  },
  {
   "cell_type": "markdown",
   "metadata": {},
   "source": [
    "戻り値が5つもある関数になってしまいました。素直にアンパックすると、以下のようになります。"
   ]
  },
  {
   "cell_type": "code",
   "execution_count": 7,
   "metadata": {},
   "outputs": [],
   "source": [
    "x_dev, x_dev_max, x_dev_min, x_mean, x_median = calc_statistics(x)"
   ]
  },
  {
   "cell_type": "markdown",
   "metadata": {},
   "source": [
    "(出力結果)"
   ]
  },
  {
   "cell_type": "code",
   "execution_count": 8,
   "metadata": {},
   "outputs": [
    {
     "name": "stdout",
     "output_type": "stream",
     "text": [
      "deviations = [0.196, 0.116, 0.036, -0.044, -0.084, -0.104, -0.114], \n",
      " max value in deviations = 0.196, \n",
      " min value in deviations = -0.114, \n",
      " mean value = 0.12428571428571429, \n",
      " median value = 0.08\n"
     ]
    }
   ],
   "source": [
    "print(\n",
    "    f\"deviations = {x_dev}, \\n\",\n",
    "    f\"max value in deviations = {x_dev_max}, \\n\",\n",
    "    f\"min value in deviations = {x_dev_min}, \\n\", \n",
    "    f\"mean value = {x_mean}, \\n\", \n",
    "    f\"median value = {x_median}\",\n",
    ")\n",
    "# deviations = [0.196, 0.116, 0.036, -0.044, -0.084, -0.104, -0.114], \n",
    "#  max value in deviations = 0.196, \n",
    "#  min value in deviations = -0.114, \n",
    "#  mean value = 0.12428571428571429, \n",
    "#  median value = 0.08"
   ]
  },
  {
   "cell_type": "markdown",
   "metadata": {},
   "source": [
    "このやり方は、各戻り値の位置を間違えてアンパックしてしまう危険があるために好ましくありません。"
   ]
  },
  {
   "cell_type": "code",
   "execution_count": 9,
   "metadata": {},
   "outputs": [],
   "source": [
    "# x_dev_min と x_dev_max の位置を間違えた！\n",
    "x_dev, x_dev_min, x_dev_max, x_mean, x_median = calc_statistics(x)"
   ]
  },
  {
   "cell_type": "markdown",
   "metadata": {},
   "source": [
    "こういった場合には、標準ライブラリの`collections`から`namedtuple`を使用します。\n",
    "\n",
    "`namedtuple`の素晴らしいところは以下の2つです。\n",
    "\n",
    "1. 要素にインデックスではなく名称でアクセスでき、分かりやすい\n",
    "1. `pandas.DataFrame`のようにドットアクセスができる (要するに、`tup[\"hoge\"]`ではなく`tup.hoge`で要素にアクセスする)\n",
    "\n",
    "==\n",
    "\n",
    "それでは、`namedtuple`を使用して関数を書き直してみましょう(Docstringは省略)。"
   ]
  },
  {
   "cell_type": "code",
   "execution_count": 10,
   "metadata": {},
   "outputs": [],
   "source": [
    "from collections import namedtuple\n",
    "from typing import NamedTuple"
   ]
  },
  {
   "cell_type": "code",
   "execution_count": 11,
   "metadata": {},
   "outputs": [],
   "source": [
    "def calc_statistics(x: list[float]) -> NamedTuple:\n",
    "    if not x:\n",
    "        raise ValueError(\"x must not be empty\")\n",
    "    \n",
    "    # 平均値\n",
    "    x_mean = statistics.mean(x)\n",
    "    \n",
    "    # 偏差値のリスト\n",
    "    x_dev = [round(x_i - x_mean, ndigits=3) for x_i in x]\n",
    "    \n",
    "    # 偏差値の最大値と最小値\n",
    "    x_dev_max = max(x_dev)\n",
    "    x_dev_min = min(x_dev)  \n",
    "    \n",
    "    # 中央値\n",
    "    x_median = statistics.median(x)\n",
    "    \n",
    "    # 各属性名を設定して、namedtupleを作成\n",
    "    Stats = namedtuple('Stats', ['deviations', 'max', 'min', 'mean', 'median'])\n",
    "    \n",
    "    # namedtupleに値をセット\n",
    "    x_stats = Stats(x_dev, x_dev_max, x_dev_min, x_mean, x_median)\n",
    "    \n",
    "    return x_stats"
   ]
  },
  {
   "cell_type": "markdown",
   "metadata": {},
   "source": [
    "`namedtuple`を使用することで、非常に分かりやすいアンパックが実現できました。"
   ]
  },
  {
   "cell_type": "code",
   "execution_count": 12,
   "metadata": {},
   "outputs": [
    {
     "name": "stdout",
     "output_type": "stream",
     "text": [
      "Stats(deviations=[0.196, 0.116, 0.036, -0.044, -0.084, -0.104, -0.114], max=0.196, min=-0.114, mean=0.12428571428571429, median=0.08)\n"
     ]
    }
   ],
   "source": [
    "x_stats = calc_statistics(x)\n",
    "\n",
    "print(x_stats)\n",
    "# Stats(deviations=[0.196, 0.116, 0.036, -0.044, -0.084, -0.104, -0.114], max=0.196, min=-0.114, mean=0.12428571428571429, median=0.08)"
   ]
  },
  {
   "cell_type": "markdown",
   "metadata": {},
   "source": [
    "先述したように、ドットアクセスで個々の要素にアクセスできます。"
   ]
  },
  {
   "cell_type": "code",
   "execution_count": 13,
   "metadata": {},
   "outputs": [
    {
     "name": "stdout",
     "output_type": "stream",
     "text": [
      "0.08\n"
     ]
    }
   ],
   "source": [
    "print(x_stats.median)  # 0.08"
   ]
  },
  {
   "cell_type": "markdown",
   "metadata": {},
   "source": [
    "ちなみに、Effective Python 第2版には`namedtuple`がデフォルト値を設定できないことが欠点だと記載してありますが、**完全な誤り**です。\n",
    "\n",
    "`typing.NamedTuple`を継承したクラスを作成することでデフォルト値が設定できます。"
   ]
  },
  {
   "cell_type": "code",
   "execution_count": 14,
   "metadata": {},
   "outputs": [
    {
     "name": "stdout",
     "output_type": "stream",
     "text": [
      "DataTable(name='x', value=0.2, unit=None)\n"
     ]
    }
   ],
   "source": [
    "from typing import NamedTuple, Optional\n",
    "\n",
    "class DataTable(NamedTuple):\n",
    "    name: str\n",
    "    value: float\n",
    "    unit: Optional[str] = None\n",
    "    \n",
    "data_table = DataTable(name='x', value=0.2)\n",
    "\n",
    "print(data_table)  # DataTable(name='x', value=0.2, unit=None)"
   ]
  },
  {
   "cell_type": "markdown",
   "metadata": {},
   "source": [
    "しかし、`namedtuple`には`tuple`らしくイミュータブルという特性があります。\n",
    "\n",
    "もちろん、好ましい特性でもありますが、動的に値を変更したい場合にはより柔軟性の高い`collections.dataclasses`の`dataclass`デコレータを付与したクラスを使用した方が良さそうです。\n",
    "\n",
    "* `collections.dataclasses.dataclass`の参考サイトは[こちら](https://zenn.dev/enven/articles/8b80ff38461b4ff329aa)"
   ]
  },
  {
   "cell_type": "markdown",
   "metadata": {},
   "source": [
    "## 関数に動的なデフォルト引数を指定したい場合は、一旦`None`としておく"
   ]
  },
  {
   "cell_type": "markdown",
   "metadata": {},
   "source": [
    "以下の関数を例とします。"
   ]
  },
  {
   "cell_type": "code",
   "execution_count": 15,
   "metadata": {},
   "outputs": [],
   "source": [
    "from datetime import datetime\n",
    "def say_hello_and_show_date(name: str, d: datetime = datetime.now()) -> str:\n",
    "    return f\"こんにちは、{name}-san. \" + f\"現在の日時は{str(d)}です。\""
   ]
  },
  {
   "cell_type": "markdown",
   "metadata": {},
   "source": [
    "`d`のデフォルト引数が`datetime.now()`になっているので、関数実行時の日時が表示されることが期待できます。\n",
    "\n",
    "それでは、実行してみましょう。"
   ]
  },
  {
   "cell_type": "code",
   "execution_count": 16,
   "metadata": {},
   "outputs": [
    {
     "data": {
      "text/plain": [
       "'こんにちは、太郎-san. 現在の日時は2022-04-24 16:08:22.424497です。'"
      ]
     },
     "execution_count": 16,
     "metadata": {},
     "output_type": "execute_result"
    }
   ],
   "source": [
    "say_hello_and_show_date(name=\"太郎\")\n",
    "# 'こんにちは、太郎-san. 現在の日時は2022-04-24 16:02:32.529558です。'"
   ]
  },
  {
   "cell_type": "markdown",
   "metadata": {},
   "source": [
    "もう一回実行してみます。"
   ]
  },
  {
   "cell_type": "code",
   "execution_count": 17,
   "metadata": {},
   "outputs": [
    {
     "data": {
      "text/plain": [
       "'こんにちは、太郎-san. 現在の日時は2022-04-24 16:08:22.424497です。'"
      ]
     },
     "execution_count": 17,
     "metadata": {},
     "output_type": "execute_result"
    }
   ],
   "source": [
    "say_hello_and_show_date(name=\"太郎\")\n",
    "# 'こんにちは、太郎-san. 現在の日時は2022-04-24 16:02:32.529558です。'"
   ]
  },
  {
   "cell_type": "markdown",
   "metadata": {},
   "source": [
    "お気づきのように、日時部分が2回の実行で一切変わっていません。\n",
    "\n",
    "これは、`datetime.now()`が関数評価時の1回しか実行されないために起きる問題です。\n",
    "\n",
    "回避するためには、デフォルト引数を`None`とし、関数内で実際の振る舞いを定義します。"
   ]
  },
  {
   "cell_type": "code",
   "execution_count": 18,
   "metadata": {},
   "outputs": [],
   "source": [
    "def say_hello_and_show_date(name: str, d: Optional[datetime] = None) -> str:\n",
    "    \"\"\"あいさつと現在の日時を返す\n",
    "\n",
    "    Parameters\n",
    "    ----------\n",
    "    name : str\n",
    "        名前\n",
    "    d : Optional[datetime], optional\n",
    "        呼び出し側で値が指定されていない場合、\n",
    "        呼び出された日時を返します, by default None\n",
    "\n",
    "    Returns\n",
    "    -------\n",
    "    str\n",
    "        あいさつと現在の日時\n",
    "    \"\"\"\n",
    "    \n",
    "    # ここで実際の振る舞いを定義\n",
    "    if d is None:\n",
    "        d = datetime.now()\n",
    "    \n",
    "    return f\"こんにちは、{name}-san. \" + f\"現在の日時は{str(d)}です。\""
   ]
  },
  {
   "cell_type": "markdown",
   "metadata": {},
   "source": [
    "デフォルト引数が`None`をとっていることに対しての説明をDocstringやコメントに記載しておくと、後々コードを読むことになる人にも親切です。\n",
    "\n",
    "それでは、2回実行してみます。"
   ]
  },
  {
   "cell_type": "code",
   "execution_count": 19,
   "metadata": {},
   "outputs": [
    {
     "data": {
      "text/plain": [
       "'こんにちは、太郎-san. 現在の日時は2022-04-24 16:08:22.557143です。'"
      ]
     },
     "execution_count": 19,
     "metadata": {},
     "output_type": "execute_result"
    }
   ],
   "source": [
    "say_hello_and_show_date(name=\"太郎\")\n",
    "# 'こんにちは、太郎-san. 現在の日時は2022-04-24 16:02:37.311410です。'"
   ]
  },
  {
   "cell_type": "code",
   "execution_count": 20,
   "metadata": {},
   "outputs": [
    {
     "data": {
      "text/plain": [
       "'こんにちは、太郎-san. 現在の日時は2022-04-24 16:08:22.590356です。'"
      ]
     },
     "execution_count": 20,
     "metadata": {},
     "output_type": "execute_result"
    }
   ],
   "source": [
    "say_hello_and_show_date(name=\"太郎\")\n",
    "# 'こんにちは、太郎-san. 現在の日時は2022-04-24 16:03:13.593031です。'"
   ]
  },
  {
   "cell_type": "markdown",
   "metadata": {},
   "source": [
    "問題なく動作することが分かりました。"
   ]
  },
  {
   "cell_type": "markdown",
   "metadata": {},
   "source": [
    "## キーワード専用引数・位置専用引数を指定して明確な呼び出しを義務付ける"
   ]
  },
  {
   "cell_type": "markdown",
   "metadata": {},
   "source": [
    "以下に定義する、式を積分・微分する関数を例に考えます。"
   ]
  },
  {
   "cell_type": "code",
   "execution_count": 50,
   "metadata": {},
   "outputs": [],
   "source": [
    "import sympy\n",
    "from sympy import sympify"
   ]
  },
  {
   "cell_type": "code",
   "execution_count": 114,
   "metadata": {},
   "outputs": [],
   "source": [
    "def calculator(\n",
    "    str_expr: str, \n",
    "    what_to_do: str, \n",
    "    by: str | int | float, \n",
    "    limit: Optional[str | int] = \"oo\",\n",
    "    limit_dir: Optional[str] = \"+-\",\n",
    "    return_type: str = \"expr\"\n",
    ") -> sympy.Expr | str:\n",
    "    \"\"\"計算式を計算して返す\n",
    "    \n",
    "    Parameters\n",
    "    ----------\n",
    "    str_expr : str\n",
    "        計算式\n",
    "    what_to_do : str\n",
    "        計算する内容\n",
    "    by : str | int | float\n",
    "        独立変数\n",
    "    limit : str | int, optional\n",
    "        極限値を得たい任意の点, by default 'oo'\n",
    "    limit_dir : str, optional\n",
    "        左側極限を得たい場合は'-', 右側極限の場合は'+', by default '+-'\n",
    "    return_type : str, optional\n",
    "        返す式の型, by default 'expr'\n",
    "    \n",
    "    Returns\n",
    "    -------\n",
    "    Sympy.Expr | str\n",
    "        計算結果\n",
    "        \n",
    "    Raises\n",
    "    ------\n",
    "    ValueError\n",
    "        引数の値が不正な場合\n",
    "    \"\"\"\n",
    "    \n",
    "    if what_to_do not in [\"limit\", \"diff\", \"integrate\"]:\n",
    "        raise ValueError(\"what_to_doの値は'limit', 'diff', 'integrate'のみ指定できます。\")\n",
    "    \n",
    "    # 式を評価\n",
    "    expr = sympify(str_expr)\n",
    "    calc_by = sympy.Symbol(by)\n",
    "    \n",
    "    res = calc_helper(expr, what_to_do, calc_by, limit, limit_dir)\n",
    "    \n",
    "    if return_type == \"expr\":\n",
    "        return res\n",
    "    elif return_type == \"str\":\n",
    "        return str(res)\n",
    "    else:\n",
    "        raise ValueError(\"return_typeは'expr'または'str'のみ指定できます。\")"
   ]
  },
  {
   "cell_type": "code",
   "execution_count": 115,
   "metadata": {},
   "outputs": [],
   "source": [
    "def calc_helper(expr, what_to_do, calc_by, *args) -> sympy.Expr:\n",
    "    if what_to_do == \"limit\":\n",
    "        return sympy.limit(expr, calc_by, *args)\n",
    "    elif what_to_do == \"diff\":\n",
    "        return sympy.diff(expr, calc_by)\n",
    "    elif what_to_do == \"integrate\":\n",
    "        return sympy.integrate(expr, calc_by)\n",
    "    else:\n",
    "        raise ValueError(\"what_to_doの値が不正です。\")"
   ]
  },
  {
   "cell_type": "markdown",
   "metadata": {},
   "source": [
    "まずは実行してみます。"
   ]
  },
  {
   "cell_type": "code",
   "execution_count": 116,
   "metadata": {},
   "outputs": [
    {
     "data": {
      "text/latex": [
       "$\\displaystyle 3 x^{2} + 4 x + 6$"
      ],
      "text/plain": [
       "3*x**2 + 4*x + 6"
      ]
     },
     "execution_count": 116,
     "metadata": {},
     "output_type": "execute_result"
    }
   ],
   "source": [
    "calculator(\"x**3+2*x**2+6*x\", \"diff\", \"x\")\n",
    "# '3*x**2 + 4*x + 6'"
   ]
  },
  {
   "cell_type": "code",
   "execution_count": 117,
   "metadata": {},
   "outputs": [
    {
     "data": {
      "text/latex": [
       "$\\displaystyle \\frac{x^{4}}{4} + \\frac{2 x^{3}}{3} + 3 x^{2}$"
      ],
      "text/plain": [
       "x**4/4 + 2*x**3/3 + 3*x**2"
      ]
     },
     "execution_count": 117,
     "metadata": {},
     "output_type": "execute_result"
    }
   ],
   "source": [
    "calculator(\"x**3+2*x**2+6*x\", \"integrate\", \"x\")\n",
    "# 'x**4/4 + 2*x**3/3 + 3*x**2'"
   ]
  },
  {
   "cell_type": "code",
   "execution_count": 118,
   "metadata": {},
   "outputs": [
    {
     "data": {
      "text/latex": [
       "$\\displaystyle \\infty$"
      ],
      "text/plain": [
       "oo"
      ]
     },
     "execution_count": 118,
     "metadata": {},
     "output_type": "execute_result"
    }
   ],
   "source": [
    "calculator(\"1/x\", \"limit\", \"x\", 0, \"+\")\n",
    "# 'oo'"
   ]
  },
  {
   "cell_type": "markdown",
   "metadata": {},
   "source": [
    "問題は出ていませんが、関数呼び出しの際に指定する引数が多いために、引数の順番が気がかりになってきます。\n",
    "\n",
    "そこで関数定義の際、全ての引数の前に`*`を記載することによって、引数をキーワード専用引数とすることができます。"
   ]
  },
  {
   "cell_type": "code",
   "execution_count": 127,
   "metadata": {},
   "outputs": [],
   "source": [
    "def modified_calculator(\n",
    "    *,  # 全ての引数をキーワード専用引数に設定\n",
    "    str_expr: str, \n",
    "    what_to_do: str, \n",
    "    by: str | int | float, \n",
    "    limit: Optional[str | int] = \"oo\",\n",
    "    limit_dir: Optional[str] = \"+-\",\n",
    "    return_type: str = \"expr\"\n",
    ") -> sympy.Expr | str:   \n",
    "    \n",
    "    if what_to_do not in [\"limit\", \"diff\", \"integrate\"]:\n",
    "        raise ValueError(\"what_to_doの値は'limit', 'diff', 'integrate'のみ指定できます。\")\n",
    "    \n",
    "    # 式を評価\n",
    "    expr = sympify(str_expr)\n",
    "    calc_by = sympy.Symbol(by)\n",
    "    \n",
    "    res = calc_helper(expr, what_to_do, calc_by, limit, limit_dir)\n",
    "    \n",
    "    if return_type == \"expr\":\n",
    "        return res\n",
    "    elif return_type == \"str\":\n",
    "        return str(res)\n",
    "    else:\n",
    "        raise ValueError(\"return_typeは'expr'または'str'のみ指定できます。\")"
   ]
  },
  {
   "cell_type": "markdown",
   "metadata": {},
   "source": [
    "キーワードなしに位置で引数を指定しようとすると怒られることが分かります。"
   ]
  },
  {
   "cell_type": "code",
   "execution_count": 137,
   "metadata": {},
   "outputs": [
    {
     "name": "stdout",
     "output_type": "stream",
     "text": [
      "ダメです。\n"
     ]
    }
   ],
   "source": [
    "try:\n",
    "    modified_calculator(\"1/x\", \"limit\", \"x\", \"oo\")\n",
    "    print(\"OK!\")\n",
    "except TypeError:\n",
    "    print(\"ダメです。\")\n",
    "    \n",
    "# ダメです。"
   ]
  },
  {
   "cell_type": "markdown",
   "metadata": {},
   "source": [
    "ですので、全ての引数にキーワードを設定すると上手くいきます。"
   ]
  },
  {
   "cell_type": "code",
   "execution_count": 138,
   "metadata": {},
   "outputs": [
    {
     "name": "stdout",
     "output_type": "stream",
     "text": [
      "OK!\n"
     ]
    }
   ],
   "source": [
    "try:\n",
    "    modified_calculator(str_expr=\"1/x\", what_to_do=\"limit\", by=\"x\", limit=\"oo\")\n",
    "    print(\"OK!\")\n",
    "except TypeError:\n",
    "    print(\"ダメです。\")\n",
    "    \n",
    "# OK!"
   ]
  },
  {
   "cell_type": "markdown",
   "metadata": {},
   "source": [
    "とはいえ、第1引数で式・第2引数で計算内容を指定するのは直感に適っていますので、そこにまでキーワードの指定を強要するのは少し冗長です。\n",
    "\n",
    "思うに、キーワード引数にしたいような紛らわしい引数は第3引数以降のみではないでしょうか。\n",
    "\n",
    "このように、位置引数とキーワード専用引数を区別して定義したいときには`/`と`*`を組み合わせます。"
   ]
  },
  {
   "cell_type": "code",
   "execution_count": 131,
   "metadata": {},
   "outputs": [],
   "source": [
    "def nice_calculator(\n",
    "    str_expr: str, \n",
    "    what_to_do: str, \n",
    "    /,  # ここまでの引数を位置引数に設定\n",
    "    *,  # これ以降の引数をキーワード専用引数に設定\n",
    "    by: str | int | float, \n",
    "    limit: Optional[str | int] = \"oo\",\n",
    "    limit_dir: Optional[str] = \"+-\",\n",
    "    return_type: str = \"expr\"\n",
    ") -> sympy.Expr | str:   \n",
    "    \n",
    "    if what_to_do not in [\"limit\", \"diff\", \"integrate\"]:\n",
    "        raise ValueError(\"what_to_doの値は'limit', 'diff', 'integrate'のみ指定できます。\")\n",
    "    \n",
    "    # 式を評価\n",
    "    expr = sympify(str_expr)\n",
    "    calc_by = sympy.Symbol(by)\n",
    "    \n",
    "    res = calc_helper(expr, what_to_do, calc_by, limit, limit_dir)\n",
    "    \n",
    "    if return_type == \"expr\":\n",
    "        return res\n",
    "    elif return_type == \"str\":\n",
    "        return str(res)\n",
    "    else:\n",
    "        raise ValueError(\"return_typeは'expr'または'str'のみ指定できます。\")"
   ]
  },
  {
   "cell_type": "markdown",
   "metadata": {},
   "source": [
    "キーワードなしに位置で指定したい引数を書いた後に`/`、キーワードの指定を義務付ける引数の前に`*`を置くことで、位置専用引数とキーワード専用引数を分けることができます。"
   ]
  },
  {
   "cell_type": "code",
   "execution_count": 139,
   "metadata": {},
   "outputs": [
    {
     "data": {
      "text/latex": [
       "$\\displaystyle 0$"
      ],
      "text/plain": [
       "0"
      ]
     },
     "execution_count": 139,
     "metadata": {},
     "output_type": "execute_result"
    }
   ],
   "source": [
    "nice_calculator(\"1/x\", \"limit\", by=\"x\", limit=\"oo\")"
   ]
  },
  {
   "cell_type": "markdown",
   "metadata": {},
   "source": [
    "この状態だと、逆に位置専用引数に対してキーワードを指定すると怒られます。"
   ]
  },
  {
   "cell_type": "code",
   "execution_count": 142,
   "metadata": {},
   "outputs": [
    {
     "name": "stdout",
     "output_type": "stream",
     "text": [
      "nice_calculator() got some positional-only arguments passed as keyword arguments: 'str_expr, what_to_do'\n"
     ]
    }
   ],
   "source": [
    "try:    \n",
    "    nice_calculator(str_expr=\"1/x\", what_to_do=\"limit\", by=\"x\", limit=\"oo\")\n",
    "    print(\"OK!\")\n",
    "except TypeError as e:\n",
    "    print(e)\n",
    "    \n",
    "# nice_calculator() got some positional-only arguments passed as keyword arguments: 'str_expr, what_to_do'"
   ]
  },
  {
   "cell_type": "markdown",
   "metadata": {},
   "source": [
    "位置で指定しても、キーワードで指定しても良い引数を設定したい場合には、`/`と`*`の間に定義します。"
   ]
  },
  {
   "cell_type": "code",
   "execution_count": 145,
   "metadata": {},
   "outputs": [],
   "source": [
    "def better_calculator(\n",
    "    str_expr: str, \n",
    "    /,\n",
    "    what_to_do: str, # \"/\"と\"*\"の間の引数は位置・キーワードどちらでも指定できる\n",
    "    *,\n",
    "    by: str | int | float, \n",
    "    limit: Optional[str | int] = \"oo\",\n",
    "    limit_dir: Optional[str] = \"+-\",\n",
    "    return_type: str = \"expr\"\n",
    ") -> sympy.Expr | str:   \n",
    "    \n",
    "    if what_to_do not in [\"limit\", \"diff\", \"integrate\"]:\n",
    "        raise ValueError(\"what_to_doの値は'limit', 'diff', 'integrate'のみ指定できます。\")\n",
    "    \n",
    "    # 式を評価\n",
    "    expr = sympify(str_expr)\n",
    "    calc_by = sympy.Symbol(by)\n",
    "    \n",
    "    res = calc_helper(expr, what_to_do, calc_by, limit, limit_dir)\n",
    "    \n",
    "    if return_type == \"expr\":\n",
    "        return res\n",
    "    elif return_type == \"str\":\n",
    "        return str(res)\n",
    "    else:\n",
    "        raise ValueError(\"return_typeは'expr'または'str'のみ指定できます。\")"
   ]
  },
  {
   "cell_type": "markdown",
   "metadata": {},
   "source": [
    "この例だと、`str_expr`は位置専用の引数で、`by`以降がキーワード専用引数となりますが、\n",
    "\n",
    "`what_to_do`は位置・キーワードどちらで指定しても問題のない引数になります。\n",
    "\n",
    "要するに`/`と`*`の間の引数は**Pythonにおいて通常の引数**です。"
   ]
  },
  {
   "cell_type": "code",
   "execution_count": 146,
   "metadata": {},
   "outputs": [
    {
     "name": "stdout",
     "output_type": "stream",
     "text": [
      "OK!\n"
     ]
    }
   ],
   "source": [
    "try:    \n",
    "    nice_calculator(\"1/x\", what_to_do=\"limit\", by=\"x\", limit=\"oo\")\n",
    "    print(\"OK!\")\n",
    "except TypeError as e:\n",
    "    print(e)\n",
    "    \n",
    "# OK!"
   ]
  },
  {
   "cell_type": "code",
   "execution_count": 147,
   "metadata": {},
   "outputs": [
    {
     "name": "stdout",
     "output_type": "stream",
     "text": [
      "OK!\n"
     ]
    }
   ],
   "source": [
    "try:    \n",
    "    nice_calculator(\"1/x\", \"limit\", by=\"x\", limit=\"oo\")\n",
    "    print(\"OK!\")\n",
    "except TypeError as e:\n",
    "    print(e)\n",
    "    \n",
    "# OK!"
   ]
  },
  {
   "cell_type": "code",
   "execution_count": null,
   "metadata": {},
   "outputs": [],
   "source": []
  }
 ],
 "metadata": {
  "kernelspec": {
   "display_name": "Python 3.8.13 ('ml38')",
   "language": "python",
   "name": "python3"
  },
  "language_info": {
   "codemirror_mode": {
    "name": "ipython",
    "version": 3
   },
   "file_extension": ".py",
   "mimetype": "text/x-python",
   "name": "python",
   "nbconvert_exporter": "python",
   "pygments_lexer": "ipython3",
   "version": "3.8.13"
  },
  "orig_nbformat": 4,
  "vscode": {
   "interpreter": {
    "hash": "8b8b75dd75cab28b13bcb7b2d4b325811c50a01a9c03444ada7cfca70ebe4ef9"
   }
  }
 },
 "nbformat": 4,
 "nbformat_minor": 2
}
